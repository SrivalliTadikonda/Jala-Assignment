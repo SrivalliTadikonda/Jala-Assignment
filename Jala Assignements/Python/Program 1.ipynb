{
 "cells": [
  {
   "cell_type": "code",
   "execution_count": 8,
   "id": "fc6378b1",
   "metadata": {},
   "outputs": [
    {
     "name": "stdout",
     "output_type": "stream",
     "text": [
      "Srivalli\n",
      "This line demonstrates comments\n",
      "Integer: 120\n",
      "Boolean: True\n",
      "Character: D\n",
      "Float: 10.3\n",
      "Double (actually float in Python): 245.325\n",
      "Local variable: 24\n",
      "Global variable: 22\n"
     ]
    }
   ],
   "source": [
    "# 1. Print Your Name\n",
    "print(\"Srivalli\")\n",
    "\n",
    "# 2. Single Line and Multi-line Comments\n",
    "\n",
    "# This is a single-line comment\n",
    "\n",
    "\"\"\"\n",
    "This is a multi-line comment.\n",
    "It can span multiple lines.\n",
    "Useful for detailed documentation.\n",
    "\"\"\"\n",
    "print(\"This line demonstrates comments\")\n",
    "\n",
    "# 3. Variables of Different Data Types\n",
    "my_int = 120\n",
    "my_bool = True\n",
    "my_char = 'D'  \n",
    "my_float = 10.30\n",
    "my_double = 245.325  \n",
    "\n",
    "print(\"Integer:\", my_int)\n",
    "print(\"Boolean:\", my_bool)\n",
    "print(\"Character:\", my_char)\n",
    "print(\"Float:\", my_float)\n",
    "print(\"Double (actually float in Python):\", my_double)\n",
    "\n",
    "# 4. Local and Global Variables with Same Name\n",
    "\n",
    "number = 22  # Global variable\n",
    "\n",
    "def scope_example():\n",
    "    number = 24  # Local variable\n",
    "    print(\"Local variable:\", number)\n",
    "    print(\"Global variable:\", globals()['number'])\n",
    "\n",
    "scope_example()"
   ]
  }
 ],
 "metadata": {
  "kernelspec": {
   "display_name": "Python 3",
   "language": "python",
   "name": "python3"
  },
  "language_info": {
   "codemirror_mode": {
    "name": "ipython",
    "version": 3
   },
   "file_extension": ".py",
   "mimetype": "text/x-python",
   "name": "python",
   "nbconvert_exporter": "python",
   "pygments_lexer": "ipython3",
   "version": "3.11.1"
  }
 },
 "nbformat": 4,
 "nbformat_minor": 5
}
